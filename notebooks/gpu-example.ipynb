{
 "cells": [
  {
   "cell_type": "code",
   "execution_count": 22,
   "metadata": {},
   "outputs": [],
   "source": [
    "import numpy as np\n",
    "import matplotlib.pyplot as plt\n",
    "import cupy as cp\n",
    "import h5py\n",
    "\n",
    "plt.rc('figure', figsize=(6,4))\n",
    "plt.rc('font', size=11)\n",
    "plt.style.use('dark_background')\n",
    "# plt.rc('figure',facecolor=(0,0,0,0)) # Set transparent background\n",
    "%config InlineBackend.figure_format='retina'"
   ]
  },
  {
   "cell_type": "code",
   "execution_count": 23,
   "metadata": {},
   "outputs": [],
   "source": [
    "import quflow as qf\n",
    "\n",
    "#qf.gpu.check_status()"
   ]
  },
  {
   "cell_type": "code",
   "execution_count": 24,
   "metadata": {},
   "outputs": [
    {
     "name": "stdout",
     "output_type": "stream",
     "text": [
      "The physical stepsize is 5.013e-04 seconds.\n",
      "997 steps per output, in total 5984 steps.\n"
     ]
    }
   ],
   "source": [
    "N = 200  # Size of matrices\n",
    "lmax = 10  # How many spherical harmonics (SH) coefficients to include\n",
    "np.random.seed(42)  # For reproducability\n",
    "omega0 = np.random.randn(lmax**2)  # Array with SH coefficients\n",
    "W0 = qf.shr2mat(omega0, N=N)  # Convert SH coefficients to matrix\n",
    "\n",
    "filename_cpu = \"cpu_test_sim_N_{}.hdf5\".format(str(N))\n",
    "filename_gpu = \"gpu_test_sim_N_{}.hdf5\".format(str(N))\n",
    "time = 3.0 # in second\n",
    "inner_time = 0.5 # in seconds\n",
    "qstepsize = 0.2 # in qtime\n",
    "\n",
    "# Run this if you want to remove the existing hdf5 file\n",
    "%rm $filename_cpu\n",
    "%rm $filename_gpu\n",
    "\n",
    "dt = qf.qtime2seconds(qstepsize, N)\n",
    "print(\"The physical stepsize is {:.3e} seconds.\".format(dt))\n",
    "print(\"{} steps per output, in total {} steps.\".format(round(inner_time/dt), round(time/dt)))"
   ]
  },
  {
   "cell_type": "code",
   "execution_count": 9,
   "metadata": {},
   "outputs": [
    {
     "name": "stderr",
     "output_type": "stream",
     "text": [
      "/home/filip/.local/lib/python3.8/site-packages/tqdm/auto.py:21: TqdmWarning: IProgress not found. Please update jupyter and ipywidgets. See https://ipywidgets.readthedocs.io/en/stable/user_install.html\n",
      "  from .autonotebook import tqdm as notebook_tqdm\n",
      "100%|██████████| 5984/5984 [07:31<00:00, 13.25 steps/s]\n"
     ]
    }
   ],
   "source": [
    "\"\"\"\n",
    "CPU \n",
    "\"\"\"\n",
    "# Callback data object\n",
    "mysim_cpu = qf.QuData(filename_cpu)\n",
    "\n",
    "# Save initial conditions if file does not exist already, otherwise load from last step\n",
    "try:\n",
    "    f = h5py.File(filename_cpu, \"r\")\n",
    "except IOError or KeyError:\n",
    "    W = W0.copy()\n",
    "    mysim_cpu(W, 0.0)\n",
    "else:\n",
    "    W = qf.shr2mat(f['state'][-1,:], N=N)\n",
    "    assert W.shape[0] == N, \"Looks like the saved data use N = {} whereas you specified N = {}.\".format(W.shape[0], N)\n",
    "    f.close()\n",
    "\n",
    "# Select solver\n",
    "method = qf.isomp_fixedpoint\n",
    "method_kwargs = {\"hamiltonian\": qf.solve_poisson, \"verbatim\":False, \"maxit\":7, \"tol\":1e-8}\n",
    "\n",
    "# Run simulation\n",
    "\n",
    "qf.solve(W, qstepsize=qstepsize, time=time, inner_time=inner_time, callback=mysim_cpu,\n",
    "         method=method, method_kwargs=method_kwargs)\n",
    "\n",
    "# Flush cache data\n",
    "mysim_cpu.flush()"
   ]
  },
  {
   "cell_type": "code",
   "execution_count": 25,
   "metadata": {},
   "outputs": [
    {
     "name": "stderr",
     "output_type": "stream",
     "text": [
      "100%|██████████| 5984/5984 [01:26<00:00, 69.29 steps/s]\n"
     ]
    }
   ],
   "source": [
    "\n",
    "\"\"\"\n",
    "GPU\n",
    "\"\"\"\n",
    "# Initialize solver\n",
    "isomp_solver = qf.gpu.isomp_gpu_skewherm_solver(W0)\n",
    "\n",
    "# Callback data object\n",
    "mysim_gpu = qf.QuData(filename_gpu)\n",
    "\n",
    "# Save initial conditions if file does not exist already, otherwise load from last step\n",
    "try:\n",
    "    f = h5py.File(filename_gpu, \"r\")\n",
    "except IOError or KeyError:\n",
    "    W = W0.copy()\n",
    "    mysim_gpu(W, 0.0)\n",
    "else:\n",
    "    W = qf.shr2mat(f['state'][-1,:], N=N)\n",
    "    assert W.shape[0] == N, \"Looks like the saved data use N = {} whereas you specified N = {}.\".format(W.shape[0], N)\n",
    "    f.close()\n",
    "\n",
    "# Select solver\n",
    "# The cupy based isomp solver and poisson solver needs to be initialized \n",
    "method = qf.gpu.isomp_gpu_skewherm_solver(W0)\n",
    "ham = qf.gpu.solve_poisson_interleaved_cp(N)\n",
    "\n",
    "# Method kwargs are the same, since we still use the same qf.solve from dynamics.py\n",
    "method_kwargs = {\"hamiltonian\": ham.solve_poisson, \"verbatim\":False, \"maxit\":7, \"tol\":1e-8}\n",
    "\n",
    "# Run simulation\n",
    "# Run simulation\n",
    "\n",
    "\n",
    "qf.solve(W, qstepsize=qstepsize, time=time, inner_time=inner_time, callback=mysim_gpu,\n",
    "         method=method.solve_step, method_kwargs=method_kwargs)\n",
    "\n",
    "# Flush cache data\n",
    "mysim_gpu.flush()"
   ]
  },
  {
   "cell_type": "code",
   "execution_count": 26,
   "metadata": {},
   "outputs": [],
   "source": [
    "# Plot last state\n",
    "with h5py.File(filename_gpu, 'r') as data:\n",
    "    omega = data['state'][-1]\n",
    "    qf.plot2(omega, projection='hammer', N=520, colorbar=True)\n",
    "    #plt.savefig(f\"output_{N}.png\")"
   ]
  },
  {
   "cell_type": "code",
   "execution_count": 27,
   "metadata": {},
   "outputs": [
    {
     "name": "stderr",
     "output_type": "stream",
     "text": [
      "100%|██████████| 8/8 [00:02<00:00,  3.21 frames/s]\n"
     ]
    },
    {
     "data": {
      "text/html": [
       "<video src=\"gpu_test_sim_N_200.mp4\" controls  >\n",
       "      Your browser does not support the <code>video</code> element.\n",
       "    </video>"
      ],
      "text/plain": [
       "<IPython.core.display.Video object>"
      ]
     },
     "execution_count": 27,
     "metadata": {},
     "output_type": "execute_result"
    }
   ],
   "source": [
    "with h5py.File(filename_gpu, 'r') as data:\n",
    "    anim = qf.create_animation2(filename_gpu.replace(\".hdf5\",\".mp4\"), data['state'], projection='mollweide', N=256)\n",
    "anim"
   ]
  },
  {
   "attachments": {},
   "cell_type": "markdown",
   "metadata": {},
   "source": [
    "## Compare GPU solution to CPU"
   ]
  },
  {
   "cell_type": "code",
   "execution_count": 28,
   "metadata": {},
   "outputs": [
    {
     "name": "stdout",
     "output_type": "stream",
     "text": [
      "[0.00000000e+00 4.64833935e-10 1.02046373e-09 1.84531035e-09\n",
      " 3.20227302e-09 5.26456507e-09 7.99939259e-09 8.00544788e-09]\n"
     ]
    }
   ],
   "source": [
    "with h5py.File(filename_gpu, 'r') as data_gpu, h5py.File(filename_cpu, 'r') as data_cpu:\n",
    "    diff = np.zeros(data_gpu['state'].shape[0])\n",
    "    for k in range(data_gpu['state'].shape[0]):\n",
    "        diff[k] = np.linalg.norm(data_cpu['state'][k]-data_gpu['state'][k])\n",
    "    plt.figure(figsize=(8,4))\n",
    "    plt.plot(diff)\n",
    "    print(diff)\n",
    "    plt.show()\n",
    "\n"
   ]
  },
  {
   "attachments": {},
   "cell_type": "markdown",
   "metadata": {},
   "source": [
    "## Check conservation of casimirs\n"
   ]
  },
  {
   "cell_type": "code",
   "execution_count": 29,
   "metadata": {},
   "outputs": [
    {
     "name": "stdout",
     "output_type": "stream",
     "text": [
      "8\n",
      "8\n",
      "[0.00000000e+00 0.00000000e+00 0.00000000e+00 9.94759830e-14\n",
      " 2.84217094e-14 2.84217094e-14 2.84217094e-14 4.26325641e-14]\n"
     ]
    }
   ],
   "source": [
    "# Check conservation of casimirs\n",
    "\n",
    "casimir_gpu = []\n",
    "casimir_cpu = []\n",
    "with h5py.File(filename_gpu, 'r') as data:\n",
    "    print(data['state'].shape[0])\n",
    "    for k in range(data['state'].shape[0]):\n",
    "        omega = data['state'][k]\n",
    "        casimir_gpu += [np.linalg.norm(omega)**2]\n",
    "    casimir_gpu = np.asarray(casimir_gpu)\n",
    "    plt.figure(figsize=(8,4))\n",
    "    plt.plot(casimir_gpu, label=\"gpu\")\n",
    "\n",
    "with h5py.File(filename_cpu, 'r') as data:\n",
    "    print(data['state'].shape[0])\n",
    "    for k in range(data['state'].shape[0]): \n",
    "        omega = data['state'][k] # type: ignore\n",
    "        casimir_cpu += [np.linalg.norm(omega)**2]\n",
    "    casimir_cpu = np.asarray(casimir_cpu)\n",
    "    plt.plot(casimir_cpu, label=\"cpu\")\n",
    "\n",
    "plt.legend()\n",
    "plt.show()\n",
    "print(np.abs(casimir_gpu-casimir_cpu))"
   ]
  },
  {
   "cell_type": "code",
   "execution_count": null,
   "metadata": {},
   "outputs": [],
   "source": []
  }
 ],
 "metadata": {
  "kernelspec": {
   "display_name": "Python 3",
   "language": "python",
   "name": "python3"
  },
  "language_info": {
   "codemirror_mode": {
    "name": "ipython",
    "version": 3
   },
   "file_extension": ".py",
   "mimetype": "text/x-python",
   "name": "python",
   "nbconvert_exporter": "python",
   "pygments_lexer": "ipython3",
   "version": "3.8.10"
  },
  "orig_nbformat": 4
 },
 "nbformat": 4,
 "nbformat_minor": 2
}
