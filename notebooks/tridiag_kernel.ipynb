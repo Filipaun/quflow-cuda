{
 "cells": [
  {
   "cell_type": "code",
   "execution_count": 1,
   "metadata": {},
   "outputs": [],
   "source": [
    "import numpy as np\n",
    "import matplotlib.pyplot as plt\n",
    "import cupy as cp\n",
    "import h5py\n",
    "\n",
    "plt.rc('figure', figsize=(6,4))\n",
    "plt.rc('font', size=11)\n",
    "plt.style.use('dark_background')\n",
    "# plt.rc('figure',facecolor=(0,0,0,0)) # Set transparent background\n",
    "%config InlineBackend.figure_format='retina'"
   ]
  },
  {
   "cell_type": "code",
   "execution_count": 2,
   "metadata": {},
   "outputs": [
    {
     "name": "stderr",
     "output_type": "stream",
     "text": [
      "2023-06-09 02:01:04.776169: W tensorflow/compiler/tf2tensorrt/utils/py_utils.cc:38] TF-TRT Warning: Could not find TensorRT\n"
     ]
    }
   ],
   "source": [
    "import quflow as qf\n",
    "from cupyx.profiler import benchmark\n",
    "#qf.gpu.check_status()\n",
    "_tridiagonal_laplacian_cp_cache2 = dict()"
   ]
  },
  {
   "cell_type": "code",
   "execution_count": 4,
   "metadata": {},
   "outputs": [],
   "source": [
    "def get_random_mat_cp(N=5,seed=None):\n",
    "    if seed != None:\n",
    "        cp.random.seed(seed)\n",
    "\n",
    "    W = cp.random.randn(N, N) + 1j*cp.random.randn(N, N)\n",
    "    W -= W.conj().T\n",
    "    W -= cp.eye(N)*cp.trace(W)/N\n",
    "    return W\n",
    "\n",
    "def get_random_mat_np(N=5,seed=None):\n",
    "    if seed != None:\n",
    "        np.random.seed(seed)\n",
    "\n",
    "    W = np.random.randn(N, N) + 1j*np.random.randn(N, N)\n",
    "    W -= W.conj().T\n",
    "    W -= np.eye(N)*np.trace(W)/N\n",
    "    return W\n",
    "\n",
    "def mult(A,B,C):\n",
    "    cp.matmul(A,B,out=C)"
   ]
  },
  {
   "cell_type": "code",
   "execution_count": 10,
   "metadata": {},
   "outputs": [
    {
     "name": "stdout",
     "output_type": "stream",
     "text": [
      "Self made kernel with interleaved memory and overwriting:\n",
      "solve_poisson       :    CPU: 17394.087 us   +/- 237.593 (min: 16503.000 / max: 19401.500) us     GPU-0: 20106.439 us   +/- 578.614 (min: 18922.016 / max: 22625.792) us\n",
      "Self made kernel with interleaved memory and caching underway:\n",
      "solve_poisson       :    CPU: 16785.306 us   +/- 473.828 (min: 15545.700 / max: 24712.800) us     GPU-0: 19508.107 us   +/- 688.172 (min: 18436.096 / max: 27279.585) us\n",
      "Tensorflow tridiag:\n",
      "solve_poisson       :    CPU: 36484.831 us   +/- 504.977 (min: 34840.500 / max: 40532.300) us     GPU-0: 39811.536 us   +/- 797.668 (min: 38632.095 / max: 43580.959) us\n",
      "4.368593325090479e-15\n",
      "1.6500057833171564e-09\n"
     ]
    }
   ],
   "source": [
    "N = 4000 # Size of matrices\n",
    "n_repeat = 1000\n",
    "\n",
    "# Cupy arrays\n",
    "W0_cp = get_random_mat_cp(N)\n",
    "\n",
    "\n",
    "P0_lm = cp.zeros_like(W0_cp)\n",
    "ham_lm = qf.gpu.solve_poisson_interleaved_lessmemory_cp(N)\n",
    "\n",
    "P0_c = cp.zeros_like(W0_cp)\n",
    "ham_c = qf.gpu.solve_poisson_interleaved_cp(N)\n",
    "\n",
    "P0_tf = cp.zeros_like(W0_cp)\n",
    "ham_tf = qf.gpu.solve_poisson_cp(N)\n",
    "\n",
    "\n",
    "print(\"Self made kernel with interleaved memory and overwriting:\")\n",
    "print(benchmark(ham_lm.solve_poisson,(W0_cp,P0_lm),n_repeat=n_repeat))\n",
    "\n",
    "print(\"Self made kernel with interleaved memory and caching underway:\")\n",
    "print(benchmark(ham_c.solve_poisson,(W0_cp,P0_c),n_repeat=n_repeat))\n",
    "\n",
    "print(\"Tensorflow tridiag:\")\n",
    "print(benchmark(ham_tf.solve_poisson,(W0_cp,P0_tf),n_repeat=n_repeat))\n",
    "\n",
    "print(cp.linalg.norm(P0_c-P0_lm))\n",
    "print(cp.linalg.norm(P0_c-P0_tf))\n"
   ]
  },
  {
   "cell_type": "code",
   "execution_count": 6,
   "metadata": {},
   "outputs": [
    {
     "name": "stderr",
     "output_type": "stream",
     "text": [
      "/home/filip/.local/lib/python3.8/site-packages/tqdm/auto.py:21: TqdmWarning: IProgress not found. Please update jupyter and ipywidgets. See https://ipywidgets.readthedocs.io/en/stable/user_install.html\n",
      "  from .autonotebook import tqdm as notebook_tqdm\n",
      "100%|██████████| 1/1 [00:33<00:00, 33.79s/ steps]\n"
     ]
    }
   ],
   "source": [
    "N = 4000 # Size of matrices\n",
    "n_repeat = 1000\n",
    "\n",
    "# Cupy arrays\n",
    "W0 = get_random_mat_np(N)\n",
    "ham_c = qf.gpu.solve_poisson_interleaved_cp(N)\n",
    "gpu_method = qf.gpu.isomp_gpu_skewherm_solver(W0)\n",
    "\n",
    "time = 3.0 # in second\n",
    "inner_time = 0.5 # in seconds\n",
    "qstepsize = 0.2 # in qtime\n",
    "\n",
    "steps = 2200 \n",
    "inner_steps = 200\n",
    "method_kwargs = {\"hamiltonian\": ham_c.solve_poisson, \"verbatim\":False, \"maxit\":7, \"tol\":1e-8}\n",
    "qf.solve(W0, steps = 1, inner_steps=1, method=gpu_method.solve_step, method_kwargs=method_kwargs)"
   ]
  },
  {
   "cell_type": "code",
   "execution_count": null,
   "metadata": {},
   "outputs": [],
   "source": []
  }
 ],
 "metadata": {
  "kernelspec": {
   "display_name": "Python 3",
   "language": "python",
   "name": "python3"
  },
  "language_info": {
   "codemirror_mode": {
    "name": "ipython",
    "version": 3
   },
   "file_extension": ".py",
   "mimetype": "text/x-python",
   "name": "python",
   "nbconvert_exporter": "python",
   "pygments_lexer": "ipython3",
   "version": "3.8.10"
  },
  "orig_nbformat": 4
 },
 "nbformat": 4,
 "nbformat_minor": 2
}
